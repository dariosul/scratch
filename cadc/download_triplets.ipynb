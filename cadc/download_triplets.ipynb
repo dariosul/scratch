{
 "metadata": {
  "name": "download_triplets"
 },
 "nbformat": 3,
 "nbformat_minor": 0,
 "worksheets": [
  {
   "cells": [
    {
     "cell_type": "code",
     "collapsed": false,
     "input": [
      "import matplotlib.pyplot as plt\n",
      "\n",
      "from ossos import astrom\n",
      "from ossos.download import downloaders\n",
      "from ossos.download.downloads import DownloadableItem\n",
      "from ossos.download.focus import TripletFocalPointCalculator\n",
      "from ossos.gui.fitsviewer import zscale"
     ],
     "language": "python",
     "metadata": {},
     "outputs": [],
     "prompt_number": 1
    },
    {
     "cell_type": "code",
     "collapsed": false,
     "input": [
      "astrom_file = \"/home/drusk/gitcadc/MOP/src/ossos-pipeline/tests/data/astromdir/candstest2.measure3.cands.astrom\"\n",
      "astrom_data = astrom.AstromParser().parse(astrom_file)"
     ],
     "language": "python",
     "metadata": {},
     "outputs": [],
     "prompt_number": 2
    },
    {
     "cell_type": "code",
     "collapsed": false,
     "input": [
      "source = astrom_data.get_sources()[0]"
     ],
     "language": "python",
     "metadata": {},
     "outputs": [],
     "prompt_number": 3
    },
    {
     "cell_type": "code",
     "collapsed": false,
     "input": [
      "downloader = downloaders.ImageSliceDownloader(slice_rows=50, slice_cols=50)"
     ],
     "language": "python",
     "metadata": {},
     "outputs": [],
     "prompt_number": 4
    },
    {
     "cell_type": "code",
     "collapsed": false,
     "input": [
      "focus_calculator = TripletFocalPointCalculator()\n",
      "foci = focus_calculator.calculate_focal_points(source)"
     ],
     "language": "python",
     "metadata": {},
     "outputs": [],
     "prompt_number": 5
    },
    {
     "cell_type": "code",
     "collapsed": false,
     "input": [
      "downloadable_items = []\n",
      "for focus in foci:\n",
      "    downloadable_items.append(DownloadableItem(focus.reading, focus.point, needs_apcor=False, on_finished_callback=None, in_memory=False))"
     ],
     "language": "python",
     "metadata": {},
     "outputs": [],
     "prompt_number": 6
    },
    {
     "cell_type": "code",
     "collapsed": false,
     "input": [
      "fits_images = []\n",
      "for i, downloadable_item in enumerate(downloadable_items):\n",
      "    fits_image = downloader.download(downloadable_item)\n",
      "    fits_image.save(\"%d.fits\" % i)\n",
      "    fits_images.append(fits_image.as_hdulist()[0].data)"
     ],
     "language": "python",
     "metadata": {},
     "outputs": [],
     "prompt_number": 7
    },
    {
     "cell_type": "code",
     "collapsed": false,
     "input": [
      "figure = plt.figure()\n",
      "i = 1\n",
      "for image in fits_images:\n",
      "    axes = figure.add_subplot(3, 3, i)\n",
      "    axes.set_axis_off()\n",
      "    plt.imshow(zscale(image), cmap=plt.gray())\n",
      "    i += 1\n",
      "plt.show()"
     ],
     "language": "python",
     "metadata": {},
     "outputs": [],
     "prompt_number": 9
    },
    {
     "cell_type": "code",
     "collapsed": false,
     "input": [],
     "language": "python",
     "metadata": {},
     "outputs": []
    }
   ],
   "metadata": {}
  }
 ]
}