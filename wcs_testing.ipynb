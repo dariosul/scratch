{
 "metadata": {
  "name": "wcs_testing"
 },
 "nbformat": 3,
 "nbformat_minor": 0,
 "worksheets": [
  {
   "cells": [
    {
     "cell_type": "code",
     "collapsed": false,
     "input": [
      "import cStringIO\n",
      "from astropy.io import fits\n",
      "from astropy import wcs\n",
      "import vos"
     ],
     "language": "python",
     "metadata": {},
     "outputs": [],
     "prompt_number": 7
    },
    {
     "cell_type": "code",
     "collapsed": false,
     "input": [
      "client = vos.Client()"
     ],
     "language": "python",
     "metadata": {},
     "outputs": [],
     "prompt_number": 2
    },
    {
     "cell_type": "code",
     "collapsed": false,
     "input": [
      "vofile = client.open(\"vos://cadc.nrc.ca~vospace/OSSOS/dbimages/1616681/1616681p.fits\",\n",
      "                     view=\"cutout\", cutout=\"[23]\")"
     ],
     "language": "python",
     "metadata": {},
     "outputs": [],
     "prompt_number": 3
    },
    {
     "cell_type": "code",
     "collapsed": false,
     "input": [
      "rawdata = cStringIO.StringIO(vofile.read())"
     ],
     "language": "python",
     "metadata": {},
     "outputs": [],
     "prompt_number": 4
    },
    {
     "cell_type": "code",
     "collapsed": false,
     "input": [
      "data = fits.open(rawdata)"
     ],
     "language": "python",
     "metadata": {},
     "outputs": [],
     "prompt_number": 5
    },
    {
     "cell_type": "code",
     "collapsed": false,
     "input": [
      "w = wcs.WCS(data[0].header)"
     ],
     "language": "python",
     "metadata": {},
     "outputs": [
      {
       "output_type": "stream",
       "stream": "stderr",
       "text": [
        "WARNING:astropy:FITSFixedWarning: 'celfix' made the change 'PV1_5 : Unrecognized coordinate transformation parameter'. This FITS header contains non-standard content.\n"
       ]
      },
      {
       "output_type": "stream",
       "stream": "stdout",
       "text": [
        "\u001b[0;33mWARNING\u001b[0m: FITSFixedWarning: 'celfix' made the change 'PV1_5 : Unrecognized coordinate transformation parameter'. This FITS header contains non-standard content. [astropy.wcs.wcs]\n"
       ]
      }
     ],
     "prompt_number": 8
    },
    {
     "cell_type": "code",
     "collapsed": false,
     "input": [
      "w.wcs.print_contents()"
     ],
     "language": "python",
     "metadata": {},
     "outputs": [
      {
       "output_type": "stream",
       "stream": "stderr",
       "text": [
        "ERROR:astropy:InvalidTransformError: ERROR 6 in wcsset() at line 1557 of file cextern/wcslib/C/wcs.c:\n",
        "PV1_5 : Unrecognized coordinate transformation parameter.\n",
        "\n"
       ]
      },
      {
       "ename": "InvalidTransformError",
       "evalue": "ERROR 6 in wcsset() at line 1557 of file cextern/wcslib/C/wcs.c:\nPV1_5 : Unrecognized coordinate transformation parameter.\n",
       "output_type": "pyerr",
       "traceback": [
        "\u001b[1;31m---------------------------------------------------------------------------\u001b[0m\n\u001b[1;31mInvalidTransformError\u001b[0m                     Traceback (most recent call last)",
        "\u001b[1;32m<ipython-input-9-1dbc51d059c5>\u001b[0m in \u001b[0;36m<module>\u001b[1;34m()\u001b[0m\n\u001b[1;32m----> 1\u001b[1;33m \u001b[0mw\u001b[0m\u001b[1;33m.\u001b[0m\u001b[0mwcs\u001b[0m\u001b[1;33m.\u001b[0m\u001b[0mprint_contents\u001b[0m\u001b[1;33m(\u001b[0m\u001b[1;33m)\u001b[0m\u001b[1;33m\u001b[0m\u001b[0m\n\u001b[0m",
        "\u001b[1;31mInvalidTransformError\u001b[0m: ERROR 6 in wcsset() at line 1557 of file cextern/wcslib/C/wcs.c:\nPV1_5 : Unrecognized coordinate transformation parameter.\n"
       ]
      },
      {
       "output_type": "stream",
       "stream": "stdout",
       "text": [
        "\u001b[0;31mERROR\u001b[0m: InvalidTransformError: ERROR 6 in wcsset() at line 1557 of file cextern/wcslib/C/wcs.c:\n",
        "PV1_5 : Unrecognized coordinate transformation parameter.\n",
        " [IPython.core.interactiveshell]\n"
       ]
      }
     ],
     "prompt_number": 9
    },
    {
     "cell_type": "code",
     "collapsed": false,
     "input": [],
     "language": "python",
     "metadata": {},
     "outputs": []
    }
   ],
   "metadata": {}
  }
 ]
}